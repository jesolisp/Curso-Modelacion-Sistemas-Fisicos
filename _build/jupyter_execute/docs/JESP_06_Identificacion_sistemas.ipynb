{
 "cells": [
  {
   "cell_type": "markdown",
   "metadata": {},
   "source": [
    "# Identificación de sistemas dinámicos\n",
    "\n",
    "## Objetivo del problema de identificación.\n",
    "## Representación de sistemas dinámicos en forma lineal con respecto a los parámetros.\n",
    "## Métodos de estimación de parámetros.\n",
    "## Diseño de experimentos para la identificación paramétrica."
   ]
  }
 ],
 "metadata": {
  "language_info": {
   "name": "python"
  }
 },
 "nbformat": 4,
 "nbformat_minor": 2
}