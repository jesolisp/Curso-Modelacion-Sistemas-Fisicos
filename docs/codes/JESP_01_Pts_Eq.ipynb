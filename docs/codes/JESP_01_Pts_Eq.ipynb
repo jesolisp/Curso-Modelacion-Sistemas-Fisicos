{
 "cells": [
  {
   "cell_type": "markdown",
   "metadata": {},
   "source": [
    "# Sistemas Mecánicos\n",
    "\n",
    "## Gas confinado a un recipiente cerrado\n",
    "\n",
    "Las cambios de presión $P$ de un gas dentro de un tanque se describe por la siguiente ecuación diferencial\n",
    "\n",
    "$$\n",
    " \\dot{P} = - \\frac{RTK_{0}A_0}{V}\\sqrt{P_{0}\\left( P - P_{0} \\right)} + \\frac{RT}{V}u,\n",
    "$$\n",
    "donde $u$ es el volumen de gas por unidad de tiempo, $A_{0}$ la constante relacionada con la válvula de entrada, $K_{0}$ la constante del gas considerado, $R$ la constante universal de los gases, $T$ la temperatura del proceso y $V$ el volúmen del recipiente. Además, el punto de equlibrio de la presión es $P=P_{0}$.\n",
    "\n",
    "El punto de equilibrio para la presión es\n",
    "\n",
    "$$\n",
    " P(u^{\\star}) = P_{0} + \\frac{1}{P_{0}}\\left( \\frac{u^{\\star}}{K_{0}A_{0}} \\right)^{2}.\n",
    "$$"
   ]
  },
  {
   "cell_type": "markdown",
   "metadata": {},
   "source": [
    "## Sistema de nivel de líquido en tanques en cascada\n",
    "\n",
    "Considere dos tanques en cascada como se muestra en la siguiente imagen\n",
    "\n",
    "```{figure} images/two_tanks_system.png\n",
    "---\n",
    "height: 300px\n",
    "name: fig:two_tanks_system\n",
    "---\n",
    "Sistema de dos tanques en cascada.\n",
    "```\n",
    "\n",
    "cuyo modelo dinámico que describe el nivel de líquido está dado como sigue\n",
    "\n",
    "$$\n",
    " \\begin{aligned}\n",
    "  \\frac{\\mathrm{d}h_{1}}{\\mathrm{d}t} &= \\frac{1}{A_{1}}u - \\frac{k_{1}}{A_{1}}\\sqrt{gh_{1}}, \\\\\n",
    "  \\frac{\\mathrm{d}h_{1}}{\\mathrm{d}t} &= \\frac{k_{1}}{A_{1}}\\sqrt{gh_{1}}  - \\frac{k_{2}}{A_{2}}\\sqrt{gh_{2}}, \\\\\n",
    "  y &= h_{2},\n",
    " \\end{aligned}\n",
    "$$ (eqn:tanks)\n",
    "\n",
    "donde $u:=q_{i}$ denota el caudal de entrada, $q_{m}:= \\frac{k_{1}}{A_{1}}\\sqrt{gh_{1}}$ la entrada del segundo tanque y $q_{o}:=\\frac{k_{2}}{A_{2}}\\sqrt{gh_{2}}$ el flujo de salida. Además, $A_{i}$, $k_{i},~i=1,2$ las secciones de los tanques y sus respectivos coeficientes de pérdida.\n",
    "\n"
   ]
  },
  {
   "cell_type": "markdown",
   "metadata": {},
   "source": [
    "### Puntos de equilibrio\n",
    "\n",
    "Para obtener los puntos de equilibrio del sistema {eq}`eqn:tanks`, podemos utilizar la librería `sympy` de Python."
   ]
  },
  {
   "cell_type": "code",
   "execution_count": 1,
   "metadata": {},
   "outputs": [
    {
     "name": "stdout",
     "output_type": "stream",
     "text": [
      "\n"
     ]
    }
   ],
   "source": [
    "import sympy as sym\n",
    "\n",
    "from sympy import init_session\n",
    "init_session(quiet=True)"
   ]
  },
  {
   "cell_type": "code",
   "execution_count": 2,
   "metadata": {},
   "outputs": [],
   "source": [
    "A1 = sym.Symbol('A1')\n",
    "A2 = sym.Symbol('A2')\n",
    "k1 = sym.Symbol('k1')\n",
    "k2 = sym.Symbol('k2')\n",
    "g = sym.Symbol('g')\n",
    "u = sym.Symbol('u')\n",
    "\n",
    "h1 = sym.Symbol('h1')\n",
    "h2 = sym.Symbol('h2')"
   ]
  },
  {
   "cell_type": "code",
   "execution_count": 3,
   "metadata": {},
   "outputs": [],
   "source": [
    "f1 = u/A1 - (k1/A1)*sym.sqrt(g*h1)\n",
    "f2 = (k1/A2)*sym.sqrt(g*h1) - (k2/A2)*sym.sqrt(g*h2)"
   ]
  },
  {
   "cell_type": "code",
   "execution_count": 4,
   "metadata": {},
   "outputs": [
    {
     "data": {
      "image/png": "[encoded data removed]",
      "text/latex": [
       "$\\displaystyle \\left[ \\left( \\frac{u^{2}}{g k_{1}^{2}}, \\  \\frac{u^{2}}{g k_{2}^{2}}\\right)\\right]$"
      ],
      "text/plain": [
       "⎡⎛   2      2 ⎞⎤\n",
       "⎢⎜  u      u  ⎟⎥\n",
       "⎢⎜─────, ─────⎟⎥\n",
       "⎢⎜    2      2⎟⎥\n",
       "⎣⎝g⋅k₁   g⋅k₂ ⎠⎦"
      ]
     },
     "execution_count": 4,
     "metadata": {},
     "output_type": "execute_result"
    }
   ],
   "source": [
    "E = sym.solve((f1, f2), (h1, h2))\n",
    "E"
   ]
  },
  {
   "cell_type": "markdown",
   "metadata": {},
   "source": [
    "### Linealización del sistema\n",
    "\n",
    "Una vez encontrados los puntos de equilibrio, podemos calcular la matriz Jacobiana como sigue"
   ]
  },
  {
   "cell_type": "code",
   "execution_count": 5,
   "metadata": {},
   "outputs": [
    {
     "data": {
      "image/png": "[encoded data removed]",
      "text/latex": [
       "$\\displaystyle \\left[\\begin{matrix}- \\frac{k_{1} \\sqrt{g h_{1}}}{2 A_{1} h_{1}} & 0\\\\\\frac{k_{1} \\sqrt{g h_{1}}}{2 A_{2} h_{1}} & - \\frac{k_{2} \\sqrt{g h_{2}}}{2 A_{2} h_{2}}\\end{matrix}\\right]$"
      ],
      "text/plain": [
       "⎡      ______                ⎤\n",
       "⎢-k₁⋅╲╱ g⋅h₁                 ⎥\n",
       "⎢─────────────        0      ⎥\n",
       "⎢   2⋅A₁⋅h₁                  ⎥\n",
       "⎢                            ⎥\n",
       "⎢      ______         ______ ⎥\n",
       "⎢ k₁⋅╲╱ g⋅h₁    -k₂⋅╲╱ g⋅h₂  ⎥\n",
       "⎢ ───────────   ─────────────⎥\n",
       "⎣   2⋅A₂⋅h₁        2⋅A₂⋅h₂   ⎦"
      ]
     },
     "execution_count": 5,
     "metadata": {},
     "output_type": "execute_result"
    }
   ],
   "source": [
    "J = sym.Matrix([[sym.diff(f1, h1), sym.diff(f1, h2)],\n",
    "                [sym.diff(f2, h1), sym.diff(f2, h2)]])\n",
    "J"
   ]
  },
  {
   "cell_type": "code",
   "execution_count": 6,
   "metadata": {},
   "outputs": [],
   "source": [
    "# Generamos una funcion lambda a partir de la expresion simbolica anterior\n",
    "J = sym.lambdify([A1, A2, k1, k2, g, u, h1, h2], J)"
   ]
  },
  {
   "cell_type": "code",
   "execution_count": 7,
   "metadata": {},
   "outputs": [
    {
     "name": "stdout",
     "output_type": "stream",
     "text": [
      "0.9954765545361874 0.7865493764236544\n"
     ]
    }
   ],
   "source": [
    "# Considere los siguientes parametros\n",
    "A1 = 0.2 # [m²] (Sección del tanque 1)\n",
    "A2 = 0.5 # [m²] (Sección del tanque 2)\n",
    "k1 = 0.0032 # [m³/s / m1/2]. (Coeficiente de pérdida 1)\n",
    "k2 = 0.0036 # [m³/s / m1/2]. (Coeficiente de pérdida 2)\n",
    "g = 9.81 # Aceleración de gravedad\n",
    "u = 0.01 # [m³/s]. (Caudal de entrada)\n",
    "\n",
    "h1_eq = (u**2)/(g*k1**2)\n",
    "h2_eq = (u**2)/(g*k2**2)\n",
    "\n",
    "print(h1_eq, h2_eq)"
   ]
  },
  {
   "cell_type": "code",
   "execution_count": 8,
   "metadata": {},
   "outputs": [
    {
     "name": "stdout",
     "output_type": "stream",
     "text": [
      "[[-0.0251136   0.        ]\n",
      " [ 0.01004544 -0.01271376]]\n"
     ]
    }
   ],
   "source": [
    "print(J(A1, A2, k1, k2, g, u, h1_eq, h2_eq))"
   ]
  },
  {
   "cell_type": "code",
   "execution_count": 9,
   "metadata": {},
   "outputs": [
    {
     "data": {
      "image/png": "[encoded data removed]",
      "text/latex": [
       "$\\displaystyle \\left[\\begin{matrix}-0.0251136 & 0\\\\0.01004544 & -0.01271376\\end{matrix}\\right]$"
      ],
      "text/plain": [
       "⎡-0.0251136       0     ⎤\n",
       "⎢                       ⎥\n",
       "⎣0.01004544  -0.01271376⎦"
      ]
     },
     "execution_count": 9,
     "metadata": {},
     "output_type": "execute_result"
    }
   ],
   "source": [
    "a11 = -k1*sym.sqrt(g*h1_eq)/(2*A1*h1_eq)\n",
    "a12 = 0\n",
    "a21 = k1*sym.sqrt(g*h1_eq)/(2*A2*h1_eq)\n",
    "a22 = -k2*sym.sqrt(g*h2_eq)/(2*A2*h2_eq)\n",
    "\n",
    "A = sym.Matrix([[a11, a12],\n",
    "                [a21, a22]])\n",
    "A"
   ]
  },
  {
   "cell_type": "markdown",
   "metadata": {},
   "source": [
    "# Sistemas electromecánicos\n",
    "\n",
    "## Sistema de levitación magnética\n",
    "\n",
    "Una esfera metálica de masa $m$ se mantiene suspendida en el aire mediante un sistema de levitación magnética dado por el siguiente sistema\n",
    "\n",
    "$$\n",
    " \\begin{aligned}\n",
    "  \\dot{x}_{1} &= x_{2}, \\\\\n",
    "  \\dot{x}_{1} &= g - \\frac{c}{m}\\frac{x_{3}^{2}}{x_{1}}, \\\\\n",
    "  \\dot{x}_{1} &= -\\frac{R}{L}x_{3} + \\frac{1}{L}u,\\\\\n",
    "  y &= x_{1},\n",
    " \\end{aligned}\n",
    "$$\n",
    "\n",
    "donde $x_{3}$ representa la corriente del circuito, $x_{1}$ el desplanzamiento de la esfera desde el electromagneto, $x_{2}$ la variación del desplazamiento. Además, $u$ es la tensión aplicada al circuito que también actúa como variable de control."
   ]
  },
  {
   "cell_type": "markdown",
   "metadata": {},
   "source": [
    "### Puntos de equilibrio\n",
    "\n",
    "Los puntos de equilibrio del sistema se obtienen como sigue"
   ]
  },
  {
   "cell_type": "code",
   "execution_count": 10,
   "metadata": {},
   "outputs": [],
   "source": [
    "x1, x2, x3, g, c, m, R, L, u = sym.symbols('x1, x2, x3, g, c, m, R, L, u')"
   ]
  },
  {
   "cell_type": "code",
   "execution_count": 11,
   "metadata": {},
   "outputs": [],
   "source": [
    "f1 = x2\n",
    "f2 = g - (c/m)*(x3**2/x1)\n",
    "f3 = -(R/L)*x3 + u/L"
   ]
  },
  {
   "cell_type": "code",
   "execution_count": 12,
   "metadata": {},
   "outputs": [
    {
     "data": {
      "image/png": "[encoded data removed]",
      "text/latex": [
       "$\\displaystyle \\left[ \\left( \\frac{c u^{2}}{R^{2} g m}, \\  0, \\  \\frac{u}{R}\\right)\\right]$"
      ],
      "text/plain": [
       "⎡⎛    2       ⎞⎤\n",
       "⎢⎜ c⋅u       u⎟⎥\n",
       "⎢⎜──────, 0, ─⎟⎥\n",
       "⎢⎜ 2         R⎟⎥\n",
       "⎣⎝R ⋅g⋅m      ⎠⎦"
      ]
     },
     "execution_count": 12,
     "metadata": {},
     "output_type": "execute_result"
    }
   ],
   "source": [
    "E = sym.solve((f1, f2, f3), (x1, x2, x3))\n",
    "E"
   ]
  },
  {
   "cell_type": "code",
   "execution_count": 13,
   "metadata": {},
   "outputs": [],
   "source": [
    "E = sym.lambdify([c,u,R,g,m], E)"
   ]
  },
  {
   "cell_type": "code",
   "execution_count": 14,
   "metadata": {},
   "outputs": [
    {
     "data": {
      "image/png": "[encoded data removed]",
      "text/latex": [
       "$\\displaystyle \\left[\\begin{matrix}0 & 1 & 0\\\\\\frac{c x_{3}^{2}}{m x_{1}^{2}} & 0 & - \\frac{2 c x_{3}}{m x_{1}}\\\\0 & 0 & - \\frac{R}{L}\\end{matrix}\\right]$"
      ],
      "text/plain": [
       "⎡  0    1     0    ⎤\n",
       "⎢                  ⎥\n",
       "⎢    2             ⎥\n",
       "⎢c⋅x₃      -2⋅c⋅x₃ ⎥\n",
       "⎢─────  0  ────────⎥\n",
       "⎢    2       m⋅x₁  ⎥\n",
       "⎢m⋅x₁              ⎥\n",
       "⎢                  ⎥\n",
       "⎢            -R    ⎥\n",
       "⎢  0    0    ───   ⎥\n",
       "⎣             L    ⎦"
      ]
     },
     "execution_count": 14,
     "metadata": {},
     "output_type": "execute_result"
    }
   ],
   "source": [
    "F = sym.Matrix([f1, f2, f3])\n",
    "X = sym.Matrix([x1, x2, x3])\n",
    "J = F.jacobian(X)\n",
    "J"
   ]
  },
  {
   "cell_type": "code",
   "execution_count": 15,
   "metadata": {},
   "outputs": [],
   "source": [
    "# Generamos una funcion lambda a partir de la expresion simbolica anterior\n",
    "J = sym.lambdify([c, m, R, L, x1, x2, x3], J)"
   ]
  },
  {
   "cell_type": "code",
   "execution_count": 16,
   "metadata": {},
   "outputs": [],
   "source": [
    "# m = 0.05 # Mass of the ball [Kg]\n",
    "# g = 9.81 # Gravity [m/s²]\n",
    "# R = 10 # [Ω]\n",
    "# c = 0.0049 # [Hm]\n",
    "# L = 0.060 # [H]\n",
    "# u = 1 # 0 < u < 10V\n",
    "\n",
    "m = 0.1\n",
    "g = 9.81\n",
    "c = 1\n",
    "R = 1\n",
    "L = 0.01"
   ]
  },
  {
   "cell_type": "code",
   "execution_count": 17,
   "metadata": {},
   "outputs": [
    {
     "data": {
      "image/png": "[encoded data removed]",
      "text/latex": [
       "$\\displaystyle 0.221472345903501$"
      ],
      "text/plain": [
       "0.22147234590350104"
      ]
     },
     "execution_count": 17,
     "metadata": {},
     "output_type": "execute_result"
    }
   ],
   "source": [
    "x1_d = 0.05\n",
    "u_eq = R*np.sqrt((x1_d*m*g)/c)\n",
    "u_eq"
   ]
  },
  {
   "cell_type": "code",
   "execution_count": 18,
   "metadata": {},
   "outputs": [
    {
     "name": "stdout",
     "output_type": "stream",
     "text": [
      "[0.05000000000000001, 0, 0.22147234590350104]\n"
     ]
    }
   ],
   "source": [
    "x1_eq = (c/(m*g))*(u_eq**2/R**2)\n",
    "x2_eq = 0\n",
    "x3_eq = u_eq/R\n",
    "\n",
    "print([x1_eq,x2_eq,x3_eq])"
   ]
  },
  {
   "cell_type": "code",
   "execution_count": 19,
   "metadata": {},
   "outputs": [
    {
     "data": {
      "text/plain": [
       "array([[   0.        ,    1.        ,    0.        ],\n",
       "       [ 196.2       ,    0.        ,  -88.58893836],\n",
       "       [   0.        ,    0.        , -100.        ]])"
      ]
     },
     "execution_count": 19,
     "metadata": {},
     "output_type": "execute_result"
    }
   ],
   "source": [
    "A = J(c, m, R, L, x1_eq, x2_eq, x3_eq)\n",
    "A"
   ]
  },
  {
   "cell_type": "code",
   "execution_count": 20,
   "metadata": {},
   "outputs": [
    {
     "name": "stdout",
     "output_type": "stream",
     "text": [
      "\n"
     ]
    }
   ],
   "source": [
    "from sympy import init_session\n",
    "init_session(quiet=True)"
   ]
  },
  {
   "cell_type": "code",
   "execution_count": 21,
   "metadata": {},
   "outputs": [
    {
     "name": "stdout",
     "output_type": "stream",
     "text": [
      "(-L*g*s + L*s**3*x1 - R*g + R*s**2*x1)/(L*x1)\n",
      "Matrix([[s*x1/(-g + s**2*x1), x1/(-g + s**2*x1), -2*L*x1*sqrt(g*k/(m*x1))/(-L*g*s + L*s**3*x1 - R*g + R*s**2*x1)], [g/(-g + s**2*x1), s*x1/(-g + s**2*x1), -2*L*s*x1*sqrt(g*k/(m*x1))/(-L*g*s + L*s**3*x1 - R*g + R*s**2*x1)], [0, 0, 1/(s + R/L)]])\n"
     ]
    }
   ],
   "source": [
    "g, x1, k, m, R, L, s = sym.symbols('g, x1, k, m, R, L, s')\n",
    "\n",
    "A = sym.Matrix([[0, 1, 0],\n",
    "                [g/x1, 0, -2*sym.sqrt((k*g)/(m*x1))],\n",
    "                [0, 0, -R/L]])\n",
    "\n",
    "sIA = s*sym.eye(3) - A\n",
    "\n",
    "print(sIA.det())\n",
    "\n",
    "print(sIA.inv())"
   ]
  }
 ],
 "metadata": {
  "kernelspec": {
   "display_name": "base",
   "language": "python",
   "name": "python3"
  },
  "language_info": {
   "codemirror_mode": {
    "name": "ipython",
    "version": 3
   },
   "file_extension": ".py",
   "mimetype": "text/x-python",
   "name": "python",
   "nbconvert_exporter": "python",
   "pygments_lexer": "ipython3",
   "version": "3.11.8"
  }
 },
 "nbformat": 4,
 "nbformat_minor": 2
}
