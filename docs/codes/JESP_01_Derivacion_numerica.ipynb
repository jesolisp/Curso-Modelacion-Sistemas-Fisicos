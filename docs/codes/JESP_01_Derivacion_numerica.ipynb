{
 "cells": [
  {
   "cell_type": "code",
   "execution_count": null,
   "metadata": {},
   "outputs": [],
   "source": [
    "import numpy as np\n",
    "import matplotlib.pyplot as plt"
   ]
  },
  {
   "cell_type": "code",
   "execution_count": null,
   "metadata": {},
   "outputs": [],
   "source": [
    "x = np.linspace(-2, 2, 100) # x\n",
    "h = x[1] - x[0] # delta_x\n",
    "\n",
    "f = lambda x: 2*x\n",
    "fp = lambda x: 2*np.ones(len(x))"
   ]
  },
  {
   "cell_type": "code",
   "execution_count": null,
   "metadata": {},
   "outputs": [],
   "source": [
    "# derivacion numerica\n",
    "N = len(x)\n",
    "xd = np.zeros(N-1)\n",
    "\n",
    "for k in range(N-1):\n",
    "    xd[k] = (f(x[k]+h) - f(x[k]))/h"
   ]
  },
  {
   "cell_type": "code",
   "execution_count": null,
   "metadata": {},
   "outputs": [],
   "source": [
    "plt.figure\n",
    "plt.plot(x, fp(x))\n",
    "plt.plot(x[:-1], xd)\n",
    "plt.show()"
   ]
  }
 ],
 "metadata": {
  "language_info": {
   "name": "python"
  }
 },
 "nbformat": 4,
 "nbformat_minor": 2
}
