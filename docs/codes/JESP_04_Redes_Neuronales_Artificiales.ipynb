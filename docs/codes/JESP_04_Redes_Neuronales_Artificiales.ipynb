{
 "cells": [
  {
   "cell_type": "markdown",
   "metadata": {},
   "source": [
    "# Redes Neuronales Artificiales\n",
    "\n",
    "## Metodología\n",
    "Los pasos a seguir para alcanzar el objetivo son los siguientes:\n",
    "\n",
    "1. Importación de la base de datos.\n",
    "2. Análisis de las variables para identificar el tipo de dato.\n",
    "3. Verificación de valores `NaN` o Nulos.\n",
    "4. Distribución de las variables.\n",
    "5. Cálculo de la matriz de correlación.\n",
    "6. Procesamiento de datos.\n",
    "7. Resultados y discusión.\n",
    "\n",
    "## Configuración\n",
    "### Importación de librerías\n",
    "Importamos todas las librerías necesarias para trabajar"
   ]
  }
 ],
 "metadata": {
  "language_info": {
   "name": "python"
  }
 },
 "nbformat": 4,
 "nbformat_minor": 2
}
