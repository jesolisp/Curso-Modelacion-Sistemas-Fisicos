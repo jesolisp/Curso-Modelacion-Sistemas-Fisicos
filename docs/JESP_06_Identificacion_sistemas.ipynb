{
 "cells": [
  {
   "cell_type": "markdown",
   "metadata": {},
   "source": [
    "# Identificación de sistemas dinámicos\n",
    "\n",
    "## Objetivo del problema de identificación.\n",
    "\n",
    "El objetivo de la Identificación de Sistemas (IS) consiste en construir modelos matemáticos de sistemas dinámicos a partir de datos experimentales. En la actualidad, la IS es importante en áreas como control automático, procesamiento de señales, física, economía, medicina, ecología, sismología, biología, entre otros.\n",
    "\n",
    "Gauss y Legendre fueron los primeros en introducir el método de mínimos cuadrados (LS) para predecir el movimiento de los planetas y cometas a partir de miediciones de telescopios. En consecuencia, diversos trabajos se realizaron sobre problemas de estimación de parámetros.\n",
    "\n",
    "Existen diferentes clases de modelos. Por ejemplo, modelos lineales deterministicos en tiempo discreto en representación de espacio de estados así como de la forma entrada-salida. También hay representaciones de sistemas a partir de modelos lineales estocásticos de tiempo discreto. Estos modelos pueden ser vistos como sigue:\n",
    "\n",
    "* Filtros dinámicos lineales que permitan la generación, análisis y clasificación de señales aleatorias. Por ejemplo, autorregresivas (AR), modelos promedio (MA) y modelos ARMA.\n",
    "* Modelos lineales con ruido aditivo aleatorio que son capaces de representar ruido, perturbaciones externas y errores de modelado. Por ejemplo, ARX, ARMAX y modelos ARARX.\n",
    "\n",
    "En la práctica, es común encontrar dos clases de modelos para representar sistemas del mundo real; los modelos no lineales (NL) y los modelos lineales de parámetros variables (LPV). \n",
    "\n",
    "Los modelos LPV son ideales para modelar sistemas lineales de tiempo variable (LTV) así como representar sistemas no lineales linealizados sobre una trayectoria $p(t)$. Este tipo de modelos pueden ser vistos como descripciones intermedias entre modelos lineales invariantes en el tiempo (LTI) y modelos no lineales variantes en el tiempo.\n",
    "\n",
    "Por otro lado, los modelos NL son muy utilizados para describir fenómenos o procesos complejos por ejemplo: procesos bioquímicos en columnas de destilación, plantad hidráulicas, sistemas fisiológicos, vibraciones en estructuras, por mencionar algunos.\n",
    "\n",
    "Los modelos NL orientados a bloques están compuestos por subsistemas dinámicos LTI y subsistemas estáticos NL donde la parte lineal son generalmente representaciones en funciones de transferencia, espacio de estados o I/O mientras que la parte NL pueden ser con memoria o sin memoria.\n",
    "\n",
    "El proceso para realizar la identificación de sistemas, según {cite}`ljung1998system` consisten en seis pasos:\n",
    "\n",
    "1. **Diseño del experimento.** Elección de la señal de excitación, periodo de muestreo, sensores para las señales de entrada y salida.\n",
    "2. **Mediciones de entrada y salida.** \n",
    "3. **Elección de la estructura del modelo.**\n",
    "4. **Determinación de la estructura de los parámetros.** Criterio de información de {cite}`akaike1974new` (AIC) y el criterio de longitud de descripción mínima de Rissanen {cite}`rissanen1978modeling`.\n",
    "5. **Estimación paramétrica del modelo.**\n",
    "6. **Validación del modelo.** Medir el desempeño del modelo obtenido para representar los datos experimentales.\n",
    "\n",
    "La elección de los algoritmos para la estimación de parámetros depende de dos factores:\n",
    "\n",
    "1. La función costo a ser minimizada.\n",
    "2. El algoritmo de optimización para encontrar la solución óptima.\n",
    "\n",
    "De los métodos más utilizados para la estimación paramétrica podemos encontrar:\n",
    "\n",
    "* Método de mínimos cuadrados ponderado (WLS).\n",
    "    * Estimador Gauss-Markov.\n",
    "    * Mejor estimador lineal sin sesgo (BLUE).\n",
    "* Método de mínimos cuadrados generalizado (GLS).\n",
    "* Método de mínimos cuadrados extendido (ELS).\n",
    "* Método de mínimos cuadrados total (TLS).\n",
    "* Método de máxima verosimilitud (ML).\n",
    "* Método de máximo a posteriori (MAP).\n",
    "* Método de estimación de la mínima de la media del error al cuadrado (MMSE).\n",
    "* Método de estimación M de Huber.\n",
    "* Método de variable instrumental (IV).\n",
    "* Método de subespacio como el algoritmo MUSIC (MUltiple SIgnal Classification).\n",
    "\n",
    "## Representación de sistemas dinámicos en forma lineal con respecto a los parámetros.\n",
    "## Métodos de estimación de parámetros.\n",
    "## Diseño de experimentos para la identificación paramétrica."
   ]
  },
  {
   "cell_type": "markdown",
   "metadata": {},
   "source": [
    "L"
   ]
  }
 ],
 "metadata": {
  "language_info": {
   "name": "python"
  }
 },
 "nbformat": 4,
 "nbformat_minor": 2
}
